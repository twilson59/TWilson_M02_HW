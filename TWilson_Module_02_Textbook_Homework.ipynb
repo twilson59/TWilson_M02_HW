{
 "cells": [
  {
   "cell_type": "code",
   "execution_count": null,
   "id": "f0696371-badb-4618-96ef-1c12c21596f8",
   "metadata": {},
   "outputs": [],
   "source": [
    "#Textbook 4.1\n",
    "import random\n",
    "secret = random.randint(1,10)\n",
    "guess = 5\n",
    "if guess > secret:\n",
    "    print(f\"{guess} is too high\")\n",
    "elif guess < secret:\n",
    "    print(f\"{guess} is too low.\")\n",
    "else:\n",
    "    print(f\"{guess} is correct!\")"
   ]
  },
  {
   "cell_type": "code",
   "execution_count": null,
   "id": "09e430e1-09fd-4cc1-a735-e1ee4165f75a",
   "metadata": {},
   "outputs": [],
   "source": [
    "#Textbook 4.2\n",
    "green = True\n",
    "small = True\n",
    "\n",
    "if green == True:\n",
    "    if small == True:\n",
    "        print(\"Pea\")\n",
    "    else:\n",
    "        print(\"Watermelon\")\n",
    "else:\n",
    "    if small == True:\n",
    "        print(\"Cherry\")\n",
    "    else:\n",
    "        print(\"Pumpkin\")"
   ]
  },
  {
   "cell_type": "code",
   "execution_count": null,
   "id": "271ca7de-c7f9-4438-b4c7-9709e94dcd8f",
   "metadata": {},
   "outputs": [],
   "source": [
    "#Textbook 6.1\n",
    "list = [3,2,1,0]\n",
    "for i in list:\n",
    "    print(i)"
   ]
  },
  {
   "cell_type": "code",
   "execution_count": null,
   "id": "1d4cb4aa-e5f1-4067-b488-4eec121d8315",
   "metadata": {},
   "outputs": [],
   "source": [
    "#Textbook 6.2\n",
    "guessMe = 7\n",
    "number = 1\n",
    "while True:\n",
    "    if number < guessMe:\n",
    "        print(f\"{number} is too low\")\n",
    "    elif number == guessMe:\n",
    "        print(f\"{number} is correct\")\n",
    "        break  \n",
    "    else:\n",
    "        print(f\"{number} is too high\")\n",
    "        break\n",
    "    number += 1"
   ]
  },
  {
   "cell_type": "code",
   "execution_count": null,
   "id": "876daa82-628a-450d-90eb-6d8b2758a26a",
   "metadata": {},
   "outputs": [],
   "source": [
    "#Textbook 6.3\n",
    "guessMe = 5\n",
    "for number in range(10):\n",
    "    if number < guessMe:\n",
    "        print(f\"{number} is too low\")\n",
    "    elif number == guessMe:\n",
    "        print(f\"{number} is correct\")\n",
    "        break\n",
    "    else:\n",
    "        print(f\"{number} is too high\")\n",
    "        break"
   ]
  }
 ],
 "metadata": {
  "kernelspec": {
   "display_name": "Python 3 (ipykernel)",
   "language": "python",
   "name": "python3"
  },
  "language_info": {
   "codemirror_mode": {
    "name": "ipython",
    "version": 3
   },
   "file_extension": ".py",
   "mimetype": "text/x-python",
   "name": "python",
   "nbconvert_exporter": "python",
   "pygments_lexer": "ipython3",
   "version": "3.12.4"
  }
 },
 "nbformat": 4,
 "nbformat_minor": 5
}
