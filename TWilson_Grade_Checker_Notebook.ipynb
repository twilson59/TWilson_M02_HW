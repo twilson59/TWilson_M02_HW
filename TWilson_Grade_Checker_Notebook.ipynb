{
 "cells": [
  {
   "cell_type": "code",
   "execution_count": null,
   "id": "b5762c9a-8cb8-4274-ac57-9423f46923ef",
   "metadata": {},
   "outputs": [
    {
     "name": "stdin",
     "output_type": "stream",
     "text": [
      "Please enter the last name or ZZZ to quit:  Wilson\n",
      "Please enter the first name:  Travis\n",
      "Please enter the GPA for Travis Wilson:  4.0\n"
     ]
    },
    {
     "name": "stdout",
     "output_type": "stream",
     "text": [
      "Travis Wilson has a GPA of 4.0 and has made the Dean's list.\n",
      "The program will now restart.\n",
      "\n",
      "\n",
      "\n"
     ]
    },
    {
     "name": "stdin",
     "output_type": "stream",
     "text": [
      "Please enter the last name or ZZZ to quit:  Wilson\n",
      "Please enter the first name:  Erin\n",
      "Please enter the GPA for Erin Wilson:  4.5\n"
     ]
    },
    {
     "name": "stdout",
     "output_type": "stream",
     "text": [
      "\n",
      "4.5 is outside of the range of 0.0 to 4.0\n"
     ]
    },
    {
     "name": "stdin",
     "output_type": "stream",
     "text": [
      "Please enter a numerical value for the GPA of Erin Wilson:  3.5\n"
     ]
    },
    {
     "name": "stdout",
     "output_type": "stream",
     "text": [
      "Erin Wilson has a GPA of 3.5 and has made the Dean's list.\n",
      "The program will now restart.\n",
      "\n",
      "\n",
      "\n"
     ]
    },
    {
     "name": "stdin",
     "output_type": "stream",
     "text": [
      "Please enter the last name or ZZZ to quit:  Wilson\n",
      "Please enter the first name:  Roisin\n",
      "Please enter the GPA for Roisin Wilson:  3.25\n"
     ]
    },
    {
     "name": "stdout",
     "output_type": "stream",
     "text": [
      "Roisin Wilson has a GPA of 3.25 and has made the Honor Roll.\n",
      "The program will now restart.\n",
      "\n",
      "\n",
      "\n"
     ]
    },
    {
     "name": "stdin",
     "output_type": "stream",
     "text": [
      "Please enter the last name or ZZZ to quit:  Wilson\n",
      "Please enter the first name:  Jill\n",
      "Please enter the GPA for Jill Wilson:  2.0\n"
     ]
    },
    {
     "name": "stdout",
     "output_type": "stream",
     "text": [
      "Jill Wilson has a GPA of 2.0.\n",
      "The program will now restart.\n",
      "\n",
      "\n",
      "\n"
     ]
    },
    {
     "name": "stdin",
     "output_type": "stream",
     "text": [
      "Please enter the last name or ZZZ to quit:  Wilson\n",
      "Please enter the first name:  Oliver\n",
      "Please enter the GPA for Oliver Wilson:  3.499999999\n"
     ]
    },
    {
     "name": "stdout",
     "output_type": "stream",
     "text": [
      "Oliver Wilson has a GPA of 3.499999999 and has made the Honor Roll.\n",
      "The program will now restart.\n",
      "\n",
      "\n",
      "\n"
     ]
    },
    {
     "name": "stdin",
     "output_type": "stream",
     "text": [
      "Please enter the last name or ZZZ to quit:  Shakur\n",
      "Please enter the first name:  2pac\n",
      "You entered an invalid character, please try again:  Twopac\n",
      "Please enter the GPA for Twopac Shakur:  5.0\n"
     ]
    },
    {
     "name": "stdout",
     "output_type": "stream",
     "text": [
      "\n",
      "5.0 is outside of the range of 0.0 to 4.0\n"
     ]
    },
    {
     "name": "stdin",
     "output_type": "stream",
     "text": [
      "Please enter a numerical value for the GPA of Twopac Shakur:  -1\n"
     ]
    },
    {
     "name": "stdout",
     "output_type": "stream",
     "text": [
      "\n",
      "-1.0 is outside of the range of 0.0 to 4.0\n"
     ]
    },
    {
     "name": "stdin",
     "output_type": "stream",
     "text": [
      "Please enter a numerical value for the GPA of Twopac Shakur:  4.0\n"
     ]
    },
    {
     "name": "stdout",
     "output_type": "stream",
     "text": [
      "Twopac Shakur has a GPA of 4.0 and has made the Dean's list.\n",
      "The program will now restart.\n",
      "\n",
      "\n",
      "\n"
     ]
    },
    {
     "name": "stdin",
     "output_type": "stream",
     "text": [
      "Please enter the last name or ZZZ to quit:  Lastname\n",
      "Please enter the first name:  Firstname\n",
      "Please enter the GPA for Firstname Lastname:  3.6\n"
     ]
    },
    {
     "name": "stdout",
     "output_type": "stream",
     "text": [
      "Firstname Lastname has a GPA of 3.6 and has made the Dean's list.\n",
      "The program will now restart.\n",
      "\n",
      "\n",
      "\n"
     ]
    },
    {
     "name": "stdin",
     "output_type": "stream",
     "text": [
      "Please enter the last name or ZZZ to quit:  ZZZ\n"
     ]
    },
    {
     "name": "stdout",
     "output_type": "stream",
     "text": [
      "You have chosen to end the program.\n"
     ]
    }
   ],
   "source": [
    "#Travis Wilson\n",
    "#Module 2 Homework\n",
    "#TWilsonGradeChecker.py\n",
    "#Accepts inputs for a students name and GPA, then checks their grade to see if they've made the \n",
    "#dean's list or honor roll.  Also validates input.\n",
    "\n",
    "#Define constants DEANSLIST and HONORROLL\n",
    "DEANSLIST = 3.5\n",
    "HONORROLL = 3.25\n",
    "\n",
    "#Import re module\n",
    "import re\n",
    "\n",
    "#defile list of invalid characters (everything but what is listed)\n",
    "invalid = r\"[^a-zA-Z\\s\\-\\.\\']\"\n",
    "\n",
    "#Master loop so the program keeps running\n",
    "while True:\n",
    "    lastName = str(input(\"Please enter the last name or ZZZ to quit: \"))\n",
    "\n",
    "    # input validation\n",
    "    while True:\n",
    "        if re.search(invalid,lastName) == None:\n",
    "#the results of the re.search function will be None if there are no invalid characters\n",
    "#and the loop will be broken.\n",
    "            break\n",
    "        else:\n",
    "            lastName = str(input(\"You entered an invalid character, please try again: \"))\n",
    "\n",
    "    #quit on exit string\n",
    "    if lastName == \"ZZZ\":\n",
    "        print(\"You have chosen to end the program.\")\n",
    "        quit()\n",
    "     \n",
    "    #repeating the same process as I did with the lastName    \n",
    "    firstName = str(input(\"Please enter the first name: \"))\n",
    "    while True:\n",
    "        if re.search(invalid,firstName) == None:\n",
    "            break\n",
    "        else:\n",
    "            firstName = str(input(\"You entered an invalid character, please try again: \"))\n",
    "\n",
    "    #GPA input\n",
    "    gradePointAverage = input(f\"Please enter the GPA for {firstName} {lastName}: \")\n",
    "\n",
    "    #Testing that the GPA is a number, and between 0 and 4\n",
    "    while True:\n",
    "        try: \n",
    "            gradePointAverage = float(gradePointAverage) \n",
    "            if gradePointAverage > 4 or gradePointAverage < 0:\n",
    "                print(f\"\\n{gradePointAverage} is outside of the range of 0.0 to 4.0\")\n",
    "                gradePointAverage = input(f\"Please enter a numerical value for the GPA of {firstName} {lastName}: \")\n",
    "            else:\n",
    "                break\n",
    "        except ValueError:\n",
    "            gradePointAverage = input(f\"Please enter a numerical value for the GPA of {firstName} {lastName}: \")\n",
    "            \n",
    "    #Checking the GPA against the constants\n",
    "    if gradePointAverage >= DEANSLIST:\n",
    "        print(f\"{firstName} {lastName} has a GPA of {gradePointAverage} and has made the Dean's list.\")\n",
    "        print(\"The program will now restart.\\n\\n\\n\")\n",
    "    elif gradePointAverage >= HONORROLL:\n",
    "        print(f\"{firstName} {lastName} has a GPA of {gradePointAverage} and has made the Honor Roll.\")\n",
    "        print(\"The program will now restart.\\n\\n\\n\")\n",
    "    else:\n",
    "        print(f\"{firstName} {lastName} has a GPA of {gradePointAverage}.\")\n",
    "        print(\"The program will now restart.\\n\\n\\n\")"
   ]
  },
  {
   "cell_type": "code",
   "execution_count": null,
   "id": "37460d3f-fcd1-4891-9583-e6bd60e0ff86",
   "metadata": {},
   "outputs": [],
   "source": []
  }
 ],
 "metadata": {
  "kernelspec": {
   "display_name": "Python 3 (ipykernel)",
   "language": "python",
   "name": "python3"
  },
  "language_info": {
   "codemirror_mode": {
    "name": "ipython",
    "version": 3
   },
   "file_extension": ".py",
   "mimetype": "text/x-python",
   "name": "python",
   "nbconvert_exporter": "python",
   "pygments_lexer": "ipython3",
   "version": "3.12.4"
  }
 },
 "nbformat": 4,
 "nbformat_minor": 5
}
